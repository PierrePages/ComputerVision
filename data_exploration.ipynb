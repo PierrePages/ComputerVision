{
 "cells": [
  {
   "cell_type": "code",
   "execution_count": 7,
   "metadata": {},
   "outputs": [],
   "source": [
    "import utils"
   ]
  },
  {
   "cell_type": "code",
   "execution_count": 17,
   "metadata": {},
   "outputs": [
    {
     "data": {
      "text/plain": [
       "'400'"
      ]
     },
     "execution_count": 17,
     "metadata": {},
     "output_type": "execute_result"
    }
   ],
   "source": [
    "\n",
    "import xml.etree.ElementTree as ET\n",
    "import os\n",
    "\n",
    "def read_xml(xml_file):\n",
    "    tree = ET.parse(xml_file)\n",
    "    root = tree.getroot()\n",
    "    file_name = root.find('size/width').text\n",
    "    return file_name\n",
    "\n",
    "labels = ['filename', \n",
    "          'size/width', 'size/height', 'size/depth', \n",
    "          'object/name', \n",
    "          'object.pose',\n",
    "          'object/difficult', \n",
    "          'object/truncated',\n",
    "          'object/occluded',\n",
    "          'object/bndbox/xmin', 'object/bndbox/ymin', 'object/bndbox/xmax', 'object/bndbox/ymax']\n",
    "\n",
    "def read_data1_annotations():\n",
    "    data1_annotations = pd.DataFrame(columns=labels)\n",
    "    for file in os.listdir(utils.data1_annotations_path):\n",
    "        if file.endswith(\".xml\"):\n",
    "            file_name = read_xml(os.path.join(utils.data1_annotations_path, file))\n",
    "            data1_annotations = data1_annotations.append(pd.read_csv(os.path.join(utils.data1_annotations_path, file), sep='\\t', names=labels))\n",
    "            data1_annotations['filename'] = file_name\n",
    "    return data1_annotations\n",
    "\n"
   ]
  },
  {
   "cell_type": "code",
   "execution_count": null,
   "metadata": {},
   "outputs": [],
   "source": [
    "read_xml('data/data1/annotations/maksssksksss833.xml')"
   ]
  }
 ],
 "metadata": {
  "kernelspec": {
   "display_name": "Python 3.10.4 64-bit",
   "language": "python",
   "name": "python3"
  },
  "language_info": {
   "codemirror_mode": {
    "name": "ipython",
    "version": 3
   },
   "file_extension": ".py",
   "mimetype": "text/x-python",
   "name": "python",
   "nbconvert_exporter": "python",
   "pygments_lexer": "ipython3",
   "version": "3.10.4"
  },
  "orig_nbformat": 4,
  "vscode": {
   "interpreter": {
    "hash": "0d6259d2a03edd1f3974675a999dfff76c82b7ef38c91b91de4af7f1a6d93698"
   }
  }
 },
 "nbformat": 4,
 "nbformat_minor": 2
}
